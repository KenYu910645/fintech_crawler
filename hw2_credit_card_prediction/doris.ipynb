{
 "cells": [
  {
   "cell_type": "code",
   "execution_count": 1,
   "metadata": {},
   "outputs": [],
   "source": [
    "import pandas as pd\n",
    "# import numpy as np\n",
    "# import matplotlib.pyplot as plt\n",
    "from sklearn import preprocessing\n",
    "from sklearn.model_selection import train_test_split\n",
    "# from sklearn.neighbors import KNeighborsClassifier\n",
    "# from sklearn import metrics\n",
    "import autosklearn.classification\n",
    "\n",
    "# # load train.csv\n",
    "df = pd.read_csv('./train.csv')\n",
    "objfeatures = df.select_dtypes(include=\"object\").columns\n",
    "le = preprocessing.LabelEncoder()"
   ]
  },
  {
   "cell_type": "code",
   "execution_count": 2,
   "metadata": {},
   "outputs": [
    {
     "name": "stdout",
     "output_type": "stream",
     "text": [
      "training\n"
     ]
    }
   ],
   "source": [
    "for feat in objfeatures:\n",
    "    df[feat] = le.fit_transform(df[feat].astype(str))\n",
    "\n",
    "df=df.values\n",
    "X = df[:,1:17]\n",
    "y = df[:,18]\n",
    "\n",
    "# Normalization\n",
    "X = preprocessing.StandardScaler().fit_transform(X.astype(int))\n",
    "\n",
    "# Split data to training and validation part\n",
    "X_train, X_test, y_train, y_test = train_test_split(X, y, test_size=0.2, random_state=4)\n",
    "print(\"training\")\n",
    "automlclassifierV1 = autosklearn.classification.AutoSklearnClassifier(\n",
    "    time_left_for_this_task=120,\n",
    "    per_run_time_limit=20,\n",
    "    resampling_strategy='cv',\n",
    "    resampling_strategy_arguments={'folds': 5}\n",
    ")\n",
    "automlclassifierV1.fit(X_train, y_train)"
   ]
  },
  {
   "cell_type": "code",
   "execution_count": null,
   "metadata": {},
   "outputs": [],
   "source": []
  }
 ],
 "metadata": {
  "interpreter": {
   "hash": "6940e513ad2258217ff7816f3c2e37b07c126dd94e8281623db2123f2c6d59f9"
  },
  "kernelspec": {
   "display_name": "Python 3.10.0 64-bit ('fintech': conda)",
   "language": "python",
   "name": "python3"
  },
  "language_info": {
   "codemirror_mode": {
    "name": "ipython",
    "version": 3
   },
   "file_extension": ".py",
   "mimetype": "text/x-python",
   "name": "python",
   "nbconvert_exporter": "python",
   "pygments_lexer": "ipython3",
   "version": "3.10.0"
  },
  "orig_nbformat": 4
 },
 "nbformat": 4,
 "nbformat_minor": 2
}
